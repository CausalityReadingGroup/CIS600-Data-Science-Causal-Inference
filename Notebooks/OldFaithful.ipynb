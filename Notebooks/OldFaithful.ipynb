{
 "cells": [
  {
   "cell_type": "markdown",
   "metadata": {},
   "source": [
    "# Old Faithful Causal Inference\n",
    "## Here we will implement methods for determining the direction of influence, i.e. $X \\to Y$ vs $Y \\to X$."
   ]
  },
  {
   "cell_type": "code",
   "execution_count": 19,
   "metadata": {},
   "outputs": [],
   "source": [
    "import matplotlib.pyplot as plt\n",
    "import pandas as pd\n",
    "import numpy as np"
   ]
  },
  {
   "cell_type": "code",
   "execution_count": 2,
   "metadata": {},
   "outputs": [],
   "source": [
    "olf = pd.read_csv('legit_olf.csv', index_col=False)"
   ]
  },
  {
   "cell_type": "code",
   "execution_count": 3,
   "metadata": {},
   "outputs": [
    {
     "data": {
      "text/plain": [
       "272"
      ]
     },
     "execution_count": 3,
     "metadata": {},
     "output_type": "execute_result"
    }
   ],
   "source": [
    "len(olf)"
   ]
  },
  {
   "cell_type": "code",
   "execution_count": 4,
   "metadata": {},
   "outputs": [
    {
     "data": {
      "text/html": [
       "<div>\n",
       "<style scoped>\n",
       "    .dataframe tbody tr th:only-of-type {\n",
       "        vertical-align: middle;\n",
       "    }\n",
       "\n",
       "    .dataframe tbody tr th {\n",
       "        vertical-align: top;\n",
       "    }\n",
       "\n",
       "    .dataframe thead th {\n",
       "        text-align: right;\n",
       "    }\n",
       "</style>\n",
       "<table border=\"1\" class=\"dataframe\">\n",
       "  <thead>\n",
       "    <tr style=\"text-align: right;\">\n",
       "      <th></th>\n",
       "      <th>eruptions</th>\n",
       "      <th>waiting</th>\n",
       "    </tr>\n",
       "  </thead>\n",
       "  <tbody>\n",
       "    <tr>\n",
       "      <th>0</th>\n",
       "      <td>3.600</td>\n",
       "      <td>79</td>\n",
       "    </tr>\n",
       "    <tr>\n",
       "      <th>1</th>\n",
       "      <td>1.800</td>\n",
       "      <td>54</td>\n",
       "    </tr>\n",
       "    <tr>\n",
       "      <th>2</th>\n",
       "      <td>3.333</td>\n",
       "      <td>74</td>\n",
       "    </tr>\n",
       "    <tr>\n",
       "      <th>3</th>\n",
       "      <td>2.283</td>\n",
       "      <td>62</td>\n",
       "    </tr>\n",
       "  </tbody>\n",
       "</table>\n",
       "</div>"
      ],
      "text/plain": [
       "   eruptions  waiting\n",
       "0      3.600       79\n",
       "1      1.800       54\n",
       "2      3.333       74\n",
       "3      2.283       62"
      ]
     },
     "execution_count": 4,
     "metadata": {},
     "output_type": "execute_result"
    }
   ],
   "source": [
    "olf.head(4)"
   ]
  },
  {
   "cell_type": "markdown",
   "metadata": {},
   "source": [
    "### *RMK* That's not the best way to handle a dataframe. But let us proceed."
   ]
  },
  {
   "cell_type": "code",
   "execution_count": 5,
   "metadata": {},
   "outputs": [
    {
     "data": {
      "text/plain": [
       "count    272.000000\n",
       "mean      70.897059\n",
       "std       13.594974\n",
       "min       43.000000\n",
       "25%       58.000000\n",
       "50%       76.000000\n",
       "75%       82.000000\n",
       "max       96.000000\n",
       "Name: waiting, dtype: float64"
      ]
     },
     "execution_count": 5,
     "metadata": {},
     "output_type": "execute_result"
    }
   ],
   "source": [
    "olf.waiting.describe()"
   ]
  },
  {
   "cell_type": "code",
   "execution_count": 6,
   "metadata": {},
   "outputs": [
    {
     "data": {
      "text/plain": [
       "count    272.000000\n",
       "mean       3.487783\n",
       "std        1.141371\n",
       "min        1.600000\n",
       "25%        2.162750\n",
       "50%        4.000000\n",
       "75%        4.454250\n",
       "max        5.100000\n",
       "Name: eruptions, dtype: float64"
      ]
     },
     "execution_count": 6,
     "metadata": {},
     "output_type": "execute_result"
    }
   ],
   "source": [
    "olf.eruptions.describe()"
   ]
  },
  {
   "cell_type": "code",
   "execution_count": 7,
   "metadata": {},
   "outputs": [
    {
     "data": {
      "text/plain": [
       "<matplotlib.axes._subplots.AxesSubplot at 0x7feafdaeff98>"
      ]
     },
     "execution_count": 7,
     "metadata": {},
     "output_type": "execute_result"
    },
    {
     "data": {
      "image/png": "[encoded data removed]",
      "text/plain": [
       "<Figure size 432x288 with 1 Axes>"
      ]
     },
     "metadata": {},
     "output_type": "display_data"
    }
   ],
   "source": [
    "olf.eruptions.hist()"
   ]
  },
  {
   "cell_type": "code",
   "execution_count": 8,
   "metadata": {},
   "outputs": [
    {
     "data": {
      "text/plain": [
       "<matplotlib.axes._subplots.AxesSubplot at 0x7feafd7dc9e8>"
      ]
     },
     "execution_count": 8,
     "metadata": {},
     "output_type": "execute_result"
    },
    {
     "data": {
      "image/png": "[encoded data removed]",
      "text/plain": [
       "<Figure size 432x288 with 1 Axes>"
      ]
     },
     "metadata": {},
     "output_type": "display_data"
    }
   ],
   "source": [
    "olf.waiting.hist()"
   ]
  },
  {
   "cell_type": "markdown",
   "metadata": {},
   "source": [
    "### That's better. Now, let's enumerate the four cases. Henceforth, our model is $Y = f(X) + noise$. We will try each of the four following combinations of choices of $X$ and $Y$:\n",
    "- **CASE I**: $X$ is eruption duration and $Y$ is the lag till the beginning of the next eruption (this is how the dataset comes to us).\n",
    "- **CASE II**: $X$ is eruption duration and $Y$ is the length of time since the end of the previous eruption (the 'waiting' column is shifted forward).\n",
    "- **CASE III**: $Y$ is eruption duration and $X$ is the lag till the beginning of the next eruption (this is the reverse of how the dataset comes to us - columns 'x' and 'y' are swapped).\n",
    "- **CASE IV**: $Y$ is eruption duration and $X$ is the length of time since the end of the previous eruption (the 'waiting' column is shifted forward and then 'x' and 'y' are swapped)."
   ]
  },
  {
   "cell_type": "markdown",
   "metadata": {},
   "source": [
    "### CASE I\n",
    "$X$ is eruption duration and $Y$ is the lag till the beginning of the next eruption (this is how the dataset comes to us)."
   ]
  },
  {
   "cell_type": "code",
   "execution_count": 116,
   "metadata": {},
   "outputs": [],
   "source": [
    "X, Y = olf.eruptions.copy(), olf.waiting.copy()\n",
    "case1 = pd.concat([X,Y], axis = 1)\n",
    "case1.columns = ['X','Y']"
   ]
  },
  {
   "cell_type": "markdown",
   "metadata": {},
   "source": [
    "### Plotting"
   ]
  },
  {
   "cell_type": "code",
   "execution_count": 117,
   "metadata": {},
   "outputs": [
    {
     "data": {
      "text/plain": [
       "<matplotlib.collections.PathCollection at 0x7feaee0897f0>"
      ]
     },
     "execution_count": 117,
     "metadata": {},
     "output_type": "execute_result"
    },
    {
     "data": {
      "image/png": "[encoded data removed]",
      "text/plain": [
       "<Figure size 432x288 with 1 Axes>"
      ]
     },
     "metadata": {},
     "output_type": "display_data"
    }
   ],
   "source": [
    "plt.scatter(case1.X, case1.Y)"
   ]
  },
  {
   "cell_type": "markdown",
   "metadata": {},
   "source": [
    "### CASE II\n",
    "$X$ is eruption duration and $Y$ is the length of time since the end of the previous eruption (the 'waiting' column is shifted forward)."
   ]
  },
  {
   "cell_type": "code",
   "execution_count": 149,
   "metadata": {},
   "outputs": [],
   "source": [
    "X, Y = np.array(olf.eruptions.copy()[1:]), np.array(olf.waiting.copy()[:-1])\n",
    "case2 = pd.DataFrame({'X':X,'Y':Y})"
   ]
  },
  {
   "cell_type": "markdown",
   "metadata": {},
   "source": [
    "### Plotting"
   ]
  },
  {
   "cell_type": "code",
   "execution_count": 151,
   "metadata": {},
   "outputs": [
    {
     "data": {
      "text/plain": [
       "<matplotlib.collections.PathCollection at 0x7feaedd394e0>"
      ]
     },
     "execution_count": 151,
     "metadata": {},
     "output_type": "execute_result"
    },
    {
     "data": {
      "image/png": "[encoded data removed]",
      "text/plain": [
       "<Figure size 432x288 with 1 Axes>"
      ]
     },
     "metadata": {},
     "output_type": "display_data"
    }
   ],
   "source": [
    "plt.scatter(X,Y)"
   ]
  },
  {
   "cell_type": "markdown",
   "metadata": {},
   "source": [
    "### CASE III"
   ]
  },
  {
   "cell_type": "code",
   "execution_count": 153,
   "metadata": {},
   "outputs": [],
   "source": [
    "Y, X = np.array(olf.eruptions.copy()), np.array(olf.waiting.copy())\n",
    "case3 = pd.DataFrame({'X':X,'Y':Y})"
   ]
  },
  {
   "cell_type": "markdown",
   "metadata": {},
   "source": [
    "### Plotting"
   ]
  },
  {
   "cell_type": "code",
   "execution_count": 154,
   "metadata": {},
   "outputs": [
    {
     "data": {
      "text/plain": [
       "<matplotlib.collections.PathCollection at 0x7feaedd05780>"
      ]
     },
     "execution_count": 154,
     "metadata": {},
     "output_type": "execute_result"
    },
    {
     "data": {
      "image/png": "[encoded data removed]",
      "text/plain": [
       "<Figure size 432x288 with 1 Axes>"
      ]
     },
     "metadata": {},
     "output_type": "display_data"
    }
   ],
   "source": [
    "plt.scatter(X,Y)"
   ]
  },
  {
   "cell_type": "markdown",
   "metadata": {},
   "source": [
    "### CASE IV"
   ]
  },
  {
   "cell_type": "code",
   "execution_count": 155,
   "metadata": {},
   "outputs": [],
   "source": [
    "Y, X = np.array(olf.eruptions.copy()[1:]), np.array(olf.waiting.copy()[:-1])\n",
    "case4 = pd.DataFrame({'X':X,'Y':Y})"
   ]
  },
  {
   "cell_type": "markdown",
   "metadata": {},
   "source": [
    "### Plotting"
   ]
  },
  {
   "cell_type": "code",
   "execution_count": 156,
   "metadata": {},
   "outputs": [
    {
     "data": {
      "text/plain": [
       "<matplotlib.collections.PathCollection at 0x7feaedc5be80>"
      ]
     },
     "execution_count": 156,
     "metadata": {},
     "output_type": "execute_result"
    },
    {
     "data": {
      "image/png": "[encoded data removed]",
      "text/plain": [
       "<Figure size 432x288 with 1 Axes>"
      ]
     },
     "metadata": {},
     "output_type": "display_data"
    }
   ],
   "source": [
    "plt.scatter(X,Y)"
   ]
  },
  {
   "cell_type": "markdown",
   "metadata": {},
   "source": [
    "### Great. Now it is time to do some regressions. We choose, for reasons to be made clear later, the family\n",
    "$$ Y =  f(X) = aX + bX^3 + n $$"
   ]
  },
  {
   "cell_type": "markdown",
   "metadata": {},
   "source": [
    "### Let us first take the simplest approach one can imagine: we map the given data to a $2D$ feature space via\n",
    "\n",
    "$$ \\Phi : X \\mapsto (X,X^3)$$\n"
   ]
  },
  {
   "cell_type": "code",
   "execution_count": 69,
   "metadata": {},
   "outputs": [],
   "source": [
    "import statsmodels.api as sm # For OLS regression"
   ]
  },
  {
   "cell_type": "markdown",
   "metadata": {},
   "source": [
    "### CASE I, Regression"
   ]
  },
  {
   "cell_type": "markdown",
   "metadata": {},
   "source": [
    "### First, we'll add in the additional feature."
   ]
  },
  {
   "cell_type": "code",
   "execution_count": 370,
   "metadata": {},
   "outputs": [],
   "source": [
    "case1['X3'] = case1.X.map(lambda x : x**3) # Adding nonlinear feature\n",
    "\n",
    "# Now, we prepare to feed the data in\n",
    "X_1 = np.vstack([case1.X.values,case1.X3.values]).transpose()\n",
    "\n",
    "Y_1 = np.array(case1.Y.values)"
   ]
  },
  {
   "cell_type": "markdown",
   "metadata": {},
   "source": [
    "### Now, we fit the model"
   ]
  },
  {
   "cell_type": "code",
   "execution_count": 158,
   "metadata": {},
   "outputs": [],
   "source": [
    "results_1 = sm.OLS(Y_1,X_1).fit()"
   ]
  },
  {
   "cell_type": "markdown",
   "metadata": {},
   "source": [
    "### And plot the original $X$ values (horizontal) against the residuals."
   ]
  },
  {
   "cell_type": "code",
   "execution_count": 159,
   "metadata": {},
   "outputs": [
    {
     "data": {
      "text/plain": [
       "<matplotlib.collections.PathCollection at 0x7feaedc3b668>"
      ]
     },
     "execution_count": 159,
     "metadata": {},
     "output_type": "execute_result"
    },
    {
     "data": {
      "image/png": "[encoded data removed]",
      "text/plain": [
       "<Figure size 432x288 with 1 Axes>"
      ]
     },
     "metadata": {},
     "output_type": "display_data"
    }
   ],
   "source": [
    "plt.scatter(case1.X,results_1.resid)"
   ]
  },
  {
   "cell_type": "markdown",
   "metadata": {},
   "source": [
    "### The idea is that if $Y$ is a function of $X$, then we should expect less dependence between $X$ and the residuals. Visually, samples from the joint distribution of two independent random variables will be *rectangular*. Let's move on to the other cases, visually inspecting these residual plots."
   ]
  },
  {
   "cell_type": "markdown",
   "metadata": {},
   "source": [
    "### At the end, we'll implement a simple measure of dependence and compare its values in the various cases."
   ]
  },
  {
   "cell_type": "markdown",
   "metadata": {},
   "source": [
    "### CASE II, Regression"
   ]
  },
  {
   "cell_type": "code",
   "execution_count": 369,
   "metadata": {},
   "outputs": [],
   "source": [
    "case2['X3'] = case2.X.map(lambda x : x**3) # Adding nonlinear feature\n",
    "\n",
    "# Now, we prepare to feed the data in\n",
    "X_2 = np.vstack([case2.X.values,case2.X3.values]).transpose()\n",
    "\n",
    "Y_2 = np.array(case2.Y.values)"
   ]
  },
  {
   "cell_type": "markdown",
   "metadata": {},
   "source": [
    "### Now, we fit the model"
   ]
  },
  {
   "cell_type": "code",
   "execution_count": 161,
   "metadata": {},
   "outputs": [],
   "source": [
    "results_2 = sm.OLS(Y_2, X_2).fit()"
   ]
  },
  {
   "cell_type": "markdown",
   "metadata": {},
   "source": [
    "### And plot the original $X$ values (horizontal) against the residuals."
   ]
  },
  {
   "cell_type": "code",
   "execution_count": 162,
   "metadata": {},
   "outputs": [
    {
     "data": {
      "text/plain": [
       "<matplotlib.collections.PathCollection at 0x7feaedb9e978>"
      ]
     },
     "execution_count": 162,
     "metadata": {},
     "output_type": "execute_result"
    },
    {
     "data": {
      "image/png": "[encoded data removed]",
      "text/plain": [
       "<Figure size 432x288 with 1 Axes>"
      ]
     },
     "metadata": {},
     "output_type": "display_data"
    }
   ],
   "source": [
    "plt.scatter(case2.X,results_2.resid)"
   ]
  },
  {
   "cell_type": "markdown",
   "metadata": {},
   "source": [
    "### Looking very much less rectangular than the first, I'd say."
   ]
  },
  {
   "cell_type": "markdown",
   "metadata": {},
   "source": [
    "### CASE III, Regression"
   ]
  },
  {
   "cell_type": "code",
   "execution_count": 366,
   "metadata": {},
   "outputs": [],
   "source": [
    "case3['X3'] = case3.X.map(lambda x : x**3) # Adding nonlinear feature\n",
    "\n",
    "# Now, we prepare to feed the data in\n",
    "X_3 = np.vstack([case3.X.values,case3.X3.values]).transpose()\n",
    "\n",
    "Y_3 = np.array(case3.Y.values)"
   ]
  },
  {
   "cell_type": "markdown",
   "metadata": {},
   "source": [
    "### Now, we fit the model"
   ]
  },
  {
   "cell_type": "code",
   "execution_count": 367,
   "metadata": {},
   "outputs": [],
   "source": [
    "results_3 = sm.OLS(Y_3, X_3).fit()"
   ]
  },
  {
   "cell_type": "markdown",
   "metadata": {},
   "source": [
    "### And plot the original $X$ values (horizontal) against the residuals."
   ]
  },
  {
   "cell_type": "code",
   "execution_count": 368,
   "metadata": {},
   "outputs": [
    {
     "data": {
      "text/plain": [
       "<matplotlib.collections.PathCollection at 0x7feae4521240>"
      ]
     },
     "execution_count": 368,
     "metadata": {},
     "output_type": "execute_result"
    },
    {
     "data": {
      "image/png": "[encoded data removed]",
      "text/plain": [
       "<Figure size 432x288 with 1 Axes>"
      ]
     },
     "metadata": {},
     "output_type": "display_data"
    }
   ],
   "source": [
    "plt.scatter(case3.X,results_3.resid)"
   ]
  },
  {
   "cell_type": "markdown",
   "metadata": {},
   "source": [
    "### Ditto."
   ]
  },
  {
   "cell_type": "markdown",
   "metadata": {},
   "source": [
    "### CASE IV, Regression"
   ]
  },
  {
   "cell_type": "code",
   "execution_count": 363,
   "metadata": {},
   "outputs": [],
   "source": [
    "case4['X3'] = case4.X.map(lambda x : x**3) # Adding nonlinear feature\n",
    "\n",
    "# Now, we prepare to feed the data in\n",
    "X_4 = np.vstack([case4.X.values,case4.X3.values]).transpose()\n",
    "\n",
    "Y_4 = np.array(case4.Y.values)"
   ]
  },
  {
   "cell_type": "markdown",
   "metadata": {},
   "source": [
    "### Now, we fit the model"
   ]
  },
  {
   "cell_type": "code",
   "execution_count": 364,
   "metadata": {},
   "outputs": [],
   "source": [
    "results_4 = sm.OLS(Y_4, X_4).fit()"
   ]
  },
  {
   "cell_type": "markdown",
   "metadata": {},
   "source": [
    "### And plot the original $X$ values (horizontal) against the residuals."
   ]
  },
  {
   "cell_type": "code",
   "execution_count": 365,
   "metadata": {},
   "outputs": [
    {
     "data": {
      "text/plain": [
       "<matplotlib.collections.PathCollection at 0x7feae45ce320>"
      ]
     },
     "execution_count": 365,
     "metadata": {},
     "output_type": "execute_result"
    },
    {
     "data": {
      "image/png": "[encoded data removed]",
      "text/plain": [
       "<Figure size 432x288 with 1 Axes>"
      ]
     },
     "metadata": {},
     "output_type": "display_data"
    }
   ],
   "source": [
    "plt.scatter(case4.X,results_4.resid)"
   ]
  },
  {
   "cell_type": "markdown",
   "metadata": {},
   "source": [
    "### Yeah, basically all of these look pretty goofy except for the first. Let's see if we can't quantify that."
   ]
  },
  {
   "cell_type": "markdown",
   "metadata": {},
   "source": [
    "### We are just about at the limit of reasonable copy-paste behavior. Therefore, let's define a function that will take the data frames `casen` as input."
   ]
  },
  {
   "cell_type": "code",
   "execution_count": 239,
   "metadata": {},
   "outputs": [],
   "source": [
    "from scipy import stats #To be used for density estimation"
   ]
  },
  {
   "cell_type": "code",
   "execution_count": 334,
   "metadata": {},
   "outputs": [],
   "source": [
    "def depTest(frame):\n",
    "    \"\"\"\n",
    "        Parameters:\n",
    "            frame - a DataFrame\n",
    "        \n",
    "        Returns:\n",
    "            The results of the\n",
    "            Hoeffding Test\n",
    "    \"\"\"\n",
    "    # Preparing Data\n",
    "    X = np.array([frame.X.values,frame.X3.values]).transpose()\n",
    "    Y = np.array(frame.Y.values\n",
    "    resids = sm.OLS(Y, X).fit().resid\n",
    "    joint = np.vstack([X[:,0],resids])\n",
    "    \n",
    "    # A model of the joint PDF\n",
    "    kernel = stats.gaussian_kde(joint)\n",
    "    kern = lambda x: kernel(x)[0]\n",
    "    \n",
    "    # Models of the marginals\n",
    "    marginalX = stats.gaussian_kde(joint[0,:])\n",
    "    margX = lambda x: marginalX(x)[0]\n",
    "    marginalY = stats.gaussian_kde(joint[1,:])\n",
    "    margY = lambda x: marginalY(x)[0]\n",
    "    \n",
    "    # Building a mesh\n",
    "    Xs, Ys = np.mgrid[min(X[:,0]):max(X[:,0]):200j,min(resids):max(resids):200j]\n",
    "    pos = np.vstack([Xs.ravel(),Ys.ravel()]).T\n",
    "    \n",
    "    # Estimating the integral\n",
    "    grand = lambda x: ( (kern(x) - margX(x[0])*margY(x[1]))**2 ) * kern(x)\n",
    "    \n",
    "    \n",
    "    return sum([grand(v) for v in pos])\n",
    "    \n",
    "    "
   ]
  },
  {
   "cell_type": "markdown",
   "metadata": {},
   "source": [
    "### This didn't work. There are very many lazy assumptions in it, so we should not be surprised that it didn't work."
   ]
  },
  {
   "cell_type": "markdown",
   "metadata": {},
   "source": [
    "### How to proceed? Instead, let's use a basic histogram. The function `histDep` takes one of the `casen` frames and returns the lead singular value of the *difference between the joint frequency histogram and the tensor product of the marginal frequency histograms*."
   ]
  },
  {
   "cell_type": "code",
   "execution_count": 403,
   "metadata": {},
   "outputs": [],
   "source": [
    "def histDep(frame):\n",
    "    \"\"\"\n",
    "        Parameters:\n",
    "            frame - a DataFrame\n",
    "        \n",
    "        Returns:\n",
    "            Lead singular value\n",
    "            of the difference between \n",
    "            the joint frequency histogram \n",
    "            and the tensor product of the \n",
    "            marginal frequency histograms\n",
    "    \"\"\"\n",
    "    \n",
    "    # Preparing the data\n",
    "    X = np.array([frame.X.values,frame.X3.values]).transpose()\n",
    "    Y = np.array(frame.Y.values)\n",
    "    \n",
    "    # Computing residuals after fitting\n",
    "    resids = sm.OLS(Y, X).fit().resid\n",
    "    \n",
    "    # Computing the 'densities'\n",
    "    jHist = np.histogram2d(X[:,0],resids, bins=20, density=True)\n",
    "    jX, jY = jHist[0].sum(axis=0), jHist[0].sum(axis=1)\n",
    "    jX, jY = jX / jX.sum(), jY / jY.sum() # Normalizing\n",
    "    \n",
    "    # Preparing the matrices for linalg\n",
    "    Joint = jHist[0][:,:]\n",
    "    tensJoint = np.matmul(jX.reshape(-1,1),jY.reshape(1,20))\n",
    "    jDiff = Joint - tensJoint\n",
    "    \n",
    "    return np.linalg.svd(jDiff)[1][0]\n"
   ]
  },
  {
   "cell_type": "code",
   "execution_count": 404,
   "metadata": {},
   "outputs": [
    {
     "data": {
      "text/plain": [
       "0.26578318816234503"
      ]
     },
     "execution_count": 404,
     "metadata": {},
     "output_type": "execute_result"
    }
   ],
   "source": [
    "histDep(case1)"
   ]
  },
  {
   "cell_type": "code",
   "execution_count": 405,
   "metadata": {},
   "outputs": [
    {
     "data": {
      "text/plain": [
       "0.11031973214660293"
      ]
     },
     "execution_count": 405,
     "metadata": {},
     "output_type": "execute_result"
    }
   ],
   "source": [
    "histDep(case2)"
   ]
  },
  {
   "cell_type": "code",
   "execution_count": 406,
   "metadata": {},
   "outputs": [
    {
     "data": {
      "text/plain": [
       "0.20449742460851725"
      ]
     },
     "execution_count": 406,
     "metadata": {},
     "output_type": "execute_result"
    }
   ],
   "source": [
    "histDep(case3)"
   ]
  },
  {
   "cell_type": "code",
   "execution_count": 407,
   "metadata": {},
   "outputs": [
    {
     "data": {
      "text/plain": [
       "0.08766266861990527"
      ]
     },
     "execution_count": 407,
     "metadata": {},
     "output_type": "execute_result"
    }
   ],
   "source": [
    "histDep(case4)"
   ]
  },
  {
   "cell_type": "markdown",
   "metadata": {},
   "source": [
    "### Even worse."
   ]
  }
 ],
 "metadata": {
  "kernelspec": {
   "display_name": "Python 3",
   "language": "python",
   "name": "python3"
  },
  "language_info": {
   "codemirror_mode": {
    "name": "ipython",
    "version": 3
   },
   "file_extension": ".py",
   "mimetype": "text/x-python",
   "name": "python",
   "nbconvert_exporter": "python",
   "pygments_lexer": "ipython3",
   "version": "3.6.6"
  }
 },
 "nbformat": 4,
 "nbformat_minor": 2
}
