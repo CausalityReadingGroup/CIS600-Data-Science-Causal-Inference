{
 "cells": [
  {
   "cell_type": "markdown",
   "metadata": {},
   "source": [
    "# Old Faithful Causal Inference\n",
    "## Here we will implement methods for determining the direction of influence, i.e. $X \\to Y$ vs $Y \\to X$."
   ]
  },
  {
   "cell_type": "code",
   "execution_count": 1,
   "metadata": {},
   "outputs": [],
   "source": [
    "import matplotlib.pyplot as plt\n",
    "import pandas as pd\n",
    "import numpy as np"
   ]
  },
  {
   "cell_type": "code",
   "execution_count": 2,
   "metadata": {},
   "outputs": [],
   "source": [
    "olf = pd.read_csv('legit_olf.csv', index_col=False)"
   ]
  },
  {
   "cell_type": "code",
   "execution_count": 3,
   "metadata": {},
   "outputs": [
    {
     "data": {
      "text/plain": [
       "272"
      ]
     },
     "execution_count": 3,
     "metadata": {},
     "output_type": "execute_result"
    }
   ],
   "source": [
    "len(olf)"
   ]
  },
  {
   "cell_type": "code",
   "execution_count": 4,
   "metadata": {},
   "outputs": [
    {
     "data": {
      "text/html": [
       "<div>\n",
       "<style scoped>\n",
       "    .dataframe tbody tr th:only-of-type {\n",
       "        vertical-align: middle;\n",
       "    }\n",
       "\n",
       "    .dataframe tbody tr th {\n",
       "        vertical-align: top;\n",
       "    }\n",
       "\n",
       "    .dataframe thead th {\n",
       "        text-align: right;\n",
       "    }\n",
       "</style>\n",
       "<table border=\"1\" class=\"dataframe\">\n",
       "  <thead>\n",
       "    <tr style=\"text-align: right;\">\n",
       "      <th></th>\n",
       "      <th>eruptions</th>\n",
       "      <th>waiting</th>\n",
       "    </tr>\n",
       "  </thead>\n",
       "  <tbody>\n",
       "    <tr>\n",
       "      <th>0</th>\n",
       "      <td>3.600</td>\n",
       "      <td>79</td>\n",
       "    </tr>\n",
       "    <tr>\n",
       "      <th>1</th>\n",
       "      <td>1.800</td>\n",
       "      <td>54</td>\n",
       "    </tr>\n",
       "    <tr>\n",
       "      <th>2</th>\n",
       "      <td>3.333</td>\n",
       "      <td>74</td>\n",
       "    </tr>\n",
       "    <tr>\n",
       "      <th>3</th>\n",
       "      <td>2.283</td>\n",
       "      <td>62</td>\n",
       "    </tr>\n",
       "  </tbody>\n",
       "</table>\n",
       "</div>"
      ],
      "text/plain": [
       "   eruptions  waiting\n",
       "0      3.600       79\n",
       "1      1.800       54\n",
       "2      3.333       74\n",
       "3      2.283       62"
      ]
     },
     "execution_count": 4,
     "metadata": {},
     "output_type": "execute_result"
    }
   ],
   "source": [
    "olf.head(4)"
   ]
  },
  {
   "cell_type": "markdown",
   "metadata": {},
   "source": [
    "### *RMK* That's not the best way to handle a dataframe. But let us proceed."
   ]
  },
  {
   "cell_type": "code",
   "execution_count": 5,
   "metadata": {},
   "outputs": [
    {
     "data": {
      "text/plain": [
       "count    272.000000\n",
       "mean      70.897059\n",
       "std       13.594974\n",
       "min       43.000000\n",
       "25%       58.000000\n",
       "50%       76.000000\n",
       "75%       82.000000\n",
       "max       96.000000\n",
       "Name: waiting, dtype: float64"
      ]
     },
     "execution_count": 5,
     "metadata": {},
     "output_type": "execute_result"
    }
   ],
   "source": [
    "olf.waiting.describe()"
   ]
  },
  {
   "cell_type": "code",
   "execution_count": 6,
   "metadata": {},
   "outputs": [
    {
     "data": {
      "text/plain": [
       "count    272.000000\n",
       "mean       3.487783\n",
       "std        1.141371\n",
       "min        1.600000\n",
       "25%        2.162750\n",
       "50%        4.000000\n",
       "75%        4.454250\n",
       "max        5.100000\n",
       "Name: eruptions, dtype: float64"
      ]
     },
     "execution_count": 6,
     "metadata": {},
     "output_type": "execute_result"
    }
   ],
   "source": [
    "olf.eruptions.describe()"
   ]
  },
  {
   "cell_type": "code",
   "execution_count": 7,
   "metadata": {},
   "outputs": [
    {
     "data": {
      "text/plain": [
       "<matplotlib.axes._subplots.AxesSubplot at 0x10f069cc0>"
      ]
     },
     "execution_count": 7,
     "metadata": {},
     "output_type": "execute_result"
    },
    {
     "data": {
      "image/png": "[encoded data removed]",
      "text/plain": [
       "<Figure size 432x288 with 1 Axes>"
      ]
     },
     "metadata": {},
     "output_type": "display_data"
    }
   ],
   "source": [
    "olf.eruptions.hist()"
   ]
  },
  {
   "cell_type": "code",
   "execution_count": 8,
   "metadata": {},
   "outputs": [
    {
     "data": {
      "text/plain": [
       "<matplotlib.axes._subplots.AxesSubplot at 0x1173c66d8>"
      ]
     },
     "execution_count": 8,
     "metadata": {},
     "output_type": "execute_result"
    },
    {
     "data": {
      "image/png": "[encoded data removed]",
      "text/plain": [
       "<Figure size 432x288 with 1 Axes>"
      ]
     },
     "metadata": {},
     "output_type": "display_data"
    }
   ],
   "source": [
    "olf.waiting.hist()"
   ]
  },
  {
   "cell_type": "code",
   "execution_count": 13,
   "metadata": {},
   "outputs": [
    {
     "data": {
      "text/plain": [
       "<matplotlib.collections.PathCollection at 0x11783fb70>"
      ]
     },
     "execution_count": 13,
     "metadata": {},
     "output_type": "execute_result"
    },
    {
     "data": {
      "image/png": "[encoded data removed]",
      "text/plain": [
       "<Figure size 432x288 with 1 Axes>"
      ]
     },
     "metadata": {},
     "output_type": "display_data"
    }
   ],
   "source": [
    "plt.scatter(olf.eruptions, olf.waiting)"
   ]
  },
  {
   "cell_type": "markdown",
   "metadata": {},
   "source": [
    "### That's better. Now, let's enumerate the four cases. Henceforth, our model is $Y = f(X) + noise$. We will try each of the four following combinations of choices of $X$ and $Y$:\n",
    "- **CASE I**: $X$ is eruption duration and $Y$ is the lag till the beginning of the next eruption (this is how the dataset comes to us).\n",
    "- **CASE II**: $X$ is eruption duration and $Y$ is the length of time since the end of the previous eruption (the 'waiting' column is shifted forward).\n",
    "- **CASE III**: $Y$ is eruption duration and $X$ is the lag till the beginning of the next eruption (this is the reverse of how the dataset comes to us - columns 'x' and 'y' are swapped).\n",
    "- **CASE IV**: $Y$ is eruption duration and $X$ is the length of time since the end of the previous eruption (the 'waiting' column is shifted forward and then 'x' and 'y' are swapped)."
   ]
  },
  {
   "cell_type": "markdown",
   "metadata": {},
   "source": [
    "### CASE I\n",
    "$X$ is eruption duration and $Y$ is the lag till the beginning of the next eruption (this is how the dataset comes to us)."
   ]
  },
  {
   "cell_type": "code",
   "execution_count": 16,
   "metadata": {},
   "outputs": [],
   "source": [
    "X, Y = olf.eruptions.copy(), olf.waiting.copy()\n",
    "case1 = pd.concat([X,Y], axis = 1)\n",
    "case1.columns = ['X','Y']"
   ]
  },
  {
   "cell_type": "markdown",
   "metadata": {},
   "source": [
    "### Plotting"
   ]
  },
  {
   "cell_type": "code",
   "execution_count": 17,
   "metadata": {},
   "outputs": [
    {
     "data": {
      "text/plain": [
       "<matplotlib.collections.PathCollection at 0x1c1da9ce10>"
      ]
     },
     "execution_count": 17,
     "metadata": {},
     "output_type": "execute_result"
    },
    {
     "data": {
      "image/png": "[encoded data removed]",
      "text/plain": [
       "<Figure size 432x288 with 1 Axes>"
      ]
     },
     "metadata": {},
     "output_type": "display_data"
    }
   ],
   "source": [
    "plt.scatter(case1.X, case1.Y)"
   ]
  },
  {
   "cell_type": "markdown",
   "metadata": {},
   "source": [
    "### CASE II\n",
    "$X$ is eruption duration and $Y$ is the length of time since the end of the previous eruption (the 'waiting' column is shifted forward)."
   ]
  },
  {
   "cell_type": "code",
   "execution_count": 18,
   "metadata": {},
   "outputs": [],
   "source": [
    "X, Y = np.array(olf.eruptions.copy()[1:]), np.array(olf.waiting.copy()[:-1])\n",
    "case2 = pd.DataFrame({'X':X,'Y':Y})"
   ]
  },
  {
   "cell_type": "markdown",
   "metadata": {},
   "source": [
    "### Plotting"
   ]
  },
  {
   "cell_type": "code",
   "execution_count": 19,
   "metadata": {},
   "outputs": [
    {
     "data": {
      "text/plain": [
       "<matplotlib.collections.PathCollection at 0x1c1db59470>"
      ]
     },
     "execution_count": 19,
     "metadata": {},
     "output_type": "execute_result"
    },
    {
     "data": {
      "image/png": "[encoded data removed]",
      "text/plain": [
       "<Figure size 432x288 with 1 Axes>"
      ]
     },
     "metadata": {},
     "output_type": "display_data"
    }
   ],
   "source": [
    "plt.scatter(X,Y)"
   ]
  },
  {
   "cell_type": "markdown",
   "metadata": {},
   "source": [
    "### CASE III"
   ]
  },
  {
   "cell_type": "code",
   "execution_count": 20,
   "metadata": {},
   "outputs": [],
   "source": [
    "Y, X = np.array(olf.eruptions.copy()), np.array(olf.waiting.copy())\n",
    "case3 = pd.DataFrame({'X':X,'Y':Y})"
   ]
  },
  {
   "cell_type": "markdown",
   "metadata": {},
   "source": [
    "### Plotting"
   ]
  },
  {
   "cell_type": "code",
   "execution_count": 21,
   "metadata": {},
   "outputs": [
    {
     "data": {
      "text/plain": [
       "<matplotlib.collections.PathCollection at 0x1c1dbaeba8>"
      ]
     },
     "execution_count": 21,
     "metadata": {},
     "output_type": "execute_result"
    },
    {
     "data": {
      "image/png": "[encoded data removed]",
      "text/plain": [
       "<Figure size 432x288 with 1 Axes>"
      ]
     },
     "metadata": {},
     "output_type": "display_data"
    }
   ],
   "source": [
    "plt.scatter(X,Y)"
   ]
  },
  {
   "cell_type": "markdown",
   "metadata": {},
   "source": [
    "### CASE IV"
   ]
  },
  {
   "cell_type": "code",
   "execution_count": 22,
   "metadata": {},
   "outputs": [],
   "source": [
    "Y, X = np.array(olf.eruptions.copy()[1:]), np.array(olf.waiting.copy()[:-1])\n",
    "case4 = pd.DataFrame({'X':X,'Y':Y})"
   ]
  },
  {
   "cell_type": "markdown",
   "metadata": {},
   "source": [
    "### Plotting"
   ]
  },
  {
   "cell_type": "code",
   "execution_count": 23,
   "metadata": {},
   "outputs": [
    {
     "data": {
      "text/plain": [
       "<matplotlib.collections.PathCollection at 0x1c1dcc6320>"
      ]
     },
     "execution_count": 23,
     "metadata": {},
     "output_type": "execute_result"
    },
    {
     "data": {
      "image/png": "[encoded data removed]",
      "text/plain": [
       "<Figure size 432x288 with 1 Axes>"
      ]
     },
     "metadata": {},
     "output_type": "display_data"
    }
   ],
   "source": [
    "plt.scatter(X,Y)"
   ]
  },
  {
   "cell_type": "markdown",
   "metadata": {},
   "source": [
    "### Great. Now it is time to do some regressions. We choose, for reasons to be made clear later, the family\n",
    "$$ Y =  f(X) = aX + bX^3 + n $$"
   ]
  },
  {
   "cell_type": "markdown",
   "metadata": {},
   "source": [
    "### Let us first take the simplest approach one can imagine: we map the given data to a $2D$ feature space via\n",
    "\n",
    "$$ \\Phi : X \\mapsto (X,X^3)$$\n"
   ]
  },
  {
   "cell_type": "code",
   "execution_count": 24,
   "metadata": {},
   "outputs": [],
   "source": [
    "import statsmodels.api as sm # For OLS regression"
   ]
  },
  {
   "cell_type": "markdown",
   "metadata": {},
   "source": [
    "### CASE I, Regression"
   ]
  },
  {
   "cell_type": "markdown",
   "metadata": {
    "heading_collapsed": true
   },
   "source": [
    "### First, we'll add in the additional feature."
   ]
  },
  {
   "cell_type": "code",
   "execution_count": 25,
   "metadata": {
    "hidden": true
   },
   "outputs": [],
   "source": [
    "case1['X3'] = case1.X.map(lambda x : x**3) # Adding nonlinear feature\n",
    "\n",
    "# Now, we prepare to feed the data in\n",
    "X_1 = np.vstack([case1.X.values,case1.X3.values]).transpose()\n",
    "\n",
    "Y_1 = np.array(case1.Y.values)"
   ]
  },
  {
   "cell_type": "markdown",
   "metadata": {},
   "source": [
    "### Now, we fit the model"
   ]
  },
  {
   "cell_type": "code",
   "execution_count": 26,
   "metadata": {},
   "outputs": [],
   "source": [
    "results_1 = sm.OLS(Y_1,X_1).fit()"
   ]
  },
  {
   "cell_type": "markdown",
   "metadata": {},
   "source": [
    "### And plot the original $X$ values (horizontal) against the residuals."
   ]
  },
  {
   "cell_type": "code",
   "execution_count": 27,
   "metadata": {},
   "outputs": [
    {
     "data": {
      "text/plain": [
       "<matplotlib.collections.PathCollection at 0x1c1dd7fbe0>"
      ]
     },
     "execution_count": 27,
     "metadata": {},
     "output_type": "execute_result"
    },
    {
     "data": {
      "image/png": "[encoded data removed]",
      "text/plain": [
       "<Figure size 432x288 with 1 Axes>"
      ]
     },
     "metadata": {},
     "output_type": "display_data"
    }
   ],
   "source": [
    "plt.scatter(case1.X,results_1.resid)"
   ]
  },
  {
   "cell_type": "markdown",
   "metadata": {},
   "source": [
    "### The idea is that if $Y$ is a function of $X$, then we should expect less dependence between $X$ and the residuals. Visually, samples from the joint distribution of two independent random variables will be *rectangular*. Let's move on to the other cases, visually inspecting these residual plots."
   ]
  },
  {
   "cell_type": "markdown",
   "metadata": {},
   "source": [
    "### At the end, we'll implement a simple measure of dependence and compare its values in the various cases."
   ]
  },
  {
   "cell_type": "markdown",
   "metadata": {},
   "source": [
    "### CASE II, Regression"
   ]
  },
  {
   "cell_type": "code",
   "execution_count": 369,
   "metadata": {},
   "outputs": [],
   "source": [
    "case2['X3'] = case2.X.map(lambda x : x**3) # Adding nonlinear feature\n",
    "\n",
    "# Now, we prepare to feed the data in\n",
    "X_2 = np.vstack([case2.X.values,case2.X3.values]).transpose()\n",
    "\n",
    "Y_2 = np.array(case2.Y.values)"
   ]
  },
  {
   "cell_type": "markdown",
   "metadata": {},
   "source": [
    "### Now, we fit the model"
   ]
  },
  {
   "cell_type": "code",
   "execution_count": 161,
   "metadata": {},
   "outputs": [],
   "source": [
    "results_2 = sm.OLS(Y_2, X_2).fit()"
   ]
  },
  {
   "cell_type": "markdown",
   "metadata": {},
   "source": [
    "### And plot the original $X$ values (horizontal) against the residuals."
   ]
  },
  {
   "cell_type": "code",
   "execution_count": 162,
   "metadata": {},
   "outputs": [
    {
     "data": {
      "text/plain": [
       "<matplotlib.collections.PathCollection at 0x7feaedb9e978>"
      ]
     },
     "execution_count": 162,
     "metadata": {},
     "output_type": "execute_result"
    },
    {
     "data": {
      "image/png": "[encoded data removed]",
      "text/plain": [
       "<Figure size 432x288 with 1 Axes>"
      ]
     },
     "metadata": {},
     "output_type": "display_data"
    }
   ],
   "source": [
    "plt.scatter(case2.X,results_2.resid)"
   ]
  },
  {
   "cell_type": "markdown",
   "metadata": {},
   "source": [
    "### Looking very much less rectangular than the first, I'd say."
   ]
  },
  {
   "cell_type": "markdown",
   "metadata": {},
   "source": [
    "### CASE III, Regression"
   ]
  },
  {
   "cell_type": "code",
   "execution_count": 366,
   "metadata": {},
   "outputs": [],
   "source": [
    "case3['X3'] = case3.X.map(lambda x : x**3) # Adding nonlinear feature\n",
    "\n",
    "# Now, we prepare to feed the data in\n",
    "X_3 = np.vstack([case3.X.values,case3.X3.values]).transpose()\n",
    "\n",
    "Y_3 = np.array(case3.Y.values)"
   ]
  },
  {
   "cell_type": "markdown",
   "metadata": {},
   "source": [
    "### Now, we fit the model"
   ]
  },
  {
   "cell_type": "code",
   "execution_count": 367,
   "metadata": {},
   "outputs": [],
   "source": [
    "results_3 = sm.OLS(Y_3, X_3).fit()"
   ]
  },
  {
   "cell_type": "markdown",
   "metadata": {},
   "source": [
    "### And plot the original $X$ values (horizontal) against the residuals."
   ]
  },
  {
   "cell_type": "code",
   "execution_count": 368,
   "metadata": {},
   "outputs": [
    {
     "data": {
      "text/plain": [
       "<matplotlib.collections.PathCollection at 0x7feae4521240>"
      ]
     },
     "execution_count": 368,
     "metadata": {},
     "output_type": "execute_result"
    },
    {
     "data": {
      "image/png": "[encoded data removed]",
      "text/plain": [
       "<Figure size 432x288 with 1 Axes>"
      ]
     },
     "metadata": {},
     "output_type": "display_data"
    }
   ],
   "source": [
    "plt.scatter(case3.X,results_3.resid)"
   ]
  },
  {
   "cell_type": "markdown",
   "metadata": {},
   "source": [
    "### Ditto."
   ]
  },
  {
   "cell_type": "markdown",
   "metadata": {},
   "source": [
    "### CASE IV, Regression"
   ]
  },
  {
   "cell_type": "code",
   "execution_count": 363,
   "metadata": {},
   "outputs": [],
   "source": [
    "case4['X3'] = case4.X.map(lambda x : x**3) # Adding nonlinear feature\n",
    "\n",
    "# Now, we prepare to feed the data in\n",
    "X_4 = np.vstack([case4.X.values,case4.X3.values]).transpose()\n",
    "\n",
    "Y_4 = np.array(case4.Y.values)"
   ]
  },
  {
   "cell_type": "markdown",
   "metadata": {},
   "source": [
    "### Now, we fit the model"
   ]
  },
  {
   "cell_type": "code",
   "execution_count": 364,
   "metadata": {},
   "outputs": [],
   "source": [
    "results_4 = sm.OLS(Y_4, X_4).fit()"
   ]
  },
  {
   "cell_type": "markdown",
   "metadata": {},
   "source": [
    "### And plot the original $X$ values (horizontal) against the residuals."
   ]
  },
  {
   "cell_type": "code",
   "execution_count": 365,
   "metadata": {},
   "outputs": [
    {
     "data": {
      "text/plain": [
       "<matplotlib.collections.PathCollection at 0x7feae45ce320>"
      ]
     },
     "execution_count": 365,
     "metadata": {},
     "output_type": "execute_result"
    },
    {
     "data": {
      "image/png": "[encoded data removed]",
      "text/plain": [
       "<Figure size 432x288 with 1 Axes>"
      ]
     },
     "metadata": {},
     "output_type": "display_data"
    }
   ],
   "source": [
    "plt.scatter(case4.X,results_4.resid)"
   ]
  },
  {
   "cell_type": "markdown",
   "metadata": {},
   "source": [
    "### Yeah, basically all of these look pretty goofy except for the first. Let's see if we can't quantify that."
   ]
  },
  {
   "cell_type": "markdown",
   "metadata": {},
   "source": [
    "### We are just about at the limit of reasonable copy-paste behavior. Therefore, let's define a function that will take the data frames `casen` as input."
   ]
  },
  {
   "cell_type": "code",
   "execution_count": 30,
   "metadata": {},
   "outputs": [],
   "source": [
    "from scipy import stats #To be used for density estimation"
   ]
  },
  {
   "cell_type": "code",
   "execution_count": 334,
   "metadata": {},
   "outputs": [],
   "source": [
    "def depTest(frame):\n",
    "    \"\"\"\n",
    "        Parameters:\n",
    "            frame - a DataFrame\n",
    "        \n",
    "        Returns:\n",
    "            The results of the\n",
    "            Hoeffding Test\n",
    "    \"\"\"\n",
    "    # Preparing Data\n",
    "    X = np.array([frame.X.values,frame.X3.values]).transpose()\n",
    "    Y = np.array(frame.Y.values\n",
    "    resids = sm.OLS(Y, X).fit().resid\n",
    "    joint = np.vstack([X[:,0],resids])\n",
    "    \n",
    "    # A model of the joint PDF\n",
    "    kernel = stats.gaussian_kde(joint)\n",
    "    kern = lambda x: kernel(x)[0]\n",
    "    \n",
    "    # Models of the marginals\n",
    "    marginalX = stats.gaussian_kde(joint[0,:])\n",
    "    margX = lambda x: marginalX(x)[0]\n",
    "    marginalY = stats.gaussian_kde(joint[1,:])\n",
    "    margY = lambda x: marginalY(x)[0]\n",
    "    \n",
    "    # Building a mesh\n",
    "    Xs, Ys = np.mgrid[min(X[:,0]):max(X[:,0]):200j,min(resids):max(resids):200j]\n",
    "    pos = np.vstack([Xs.ravel(),Ys.ravel()]).T\n",
    "    \n",
    "    # Estimating the integral\n",
    "    grand = lambda x: ( (kern(x) - margX(x[0])*margY(x[1]))**2 ) * kern(x)\n",
    "    \n",
    "    \n",
    "    return sum([grand(v) for v in pos])\n",
    "    \n",
    "    "
   ]
  },
  {
   "cell_type": "markdown",
   "metadata": {},
   "source": [
    "### This didn't work. There are very many lazy assumptions in it, so we should not be surprised that it didn't work."
   ]
  },
  {
   "cell_type": "markdown",
   "metadata": {},
   "source": [
    "### How to proceed? Instead, let's use a basic histogram. The function `histDep` takes one of the `casen` frames and returns the lead singular value of the *difference between the joint frequency histogram and the tensor product of the marginal frequency histograms*."
   ]
  },
  {
   "cell_type": "code",
   "execution_count": 31,
   "metadata": {},
   "outputs": [],
   "source": [
    "def histDep(frame):\n",
    "    \"\"\"\n",
    "        Parameters:\n",
    "            frame - a DataFrame\n",
    "        \n",
    "        Returns:\n",
    "            Lead singular value\n",
    "            of the difference between \n",
    "            the joint frequency histogram \n",
    "            and the tensor product of the \n",
    "            marginal frequency histograms\n",
    "    \"\"\"\n",
    "    \n",
    "    # Preparing the data\n",
    "    X = np.array([frame.X.values,frame.X3.values]).transpose()\n",
    "    Y = np.array(frame.Y.values)\n",
    "    \n",
    "    # Computing residuals after fitting\n",
    "    resids = sm.OLS(Y, X).fit().resid\n",
    "    \n",
    "    # Computing the 'densities'\n",
    "    jHist = np.histogram2d(X[:,0],resids, bins=20, density=True)\n",
    "    jX, jY = jHist[0].sum(axis=0), jHist[0].sum(axis=1)\n",
    "    jX, jY = jX / jX.sum(), jY / jY.sum() # Normalizing\n",
    "    \n",
    "    # Preparing the matrices for linalg\n",
    "    Joint = jHist[0][:,:]\n",
    "    tensJoint = np.matmul(jX.reshape(-1,1),jY.reshape(1,20))\n",
    "    jDiff = Joint - tensJoint\n",
    "    \n",
    "    return np.linalg.svd(jDiff)[1][0]\n"
   ]
  },
  {
   "cell_type": "code",
   "execution_count": 32,
   "metadata": {},
   "outputs": [
    {
     "ename": "TypeError",
     "evalue": "histogram2d() got an unexpected keyword argument 'density'",
     "output_type": "error",
     "traceback": [
      "\u001b[0;31m---------------------------------------------------------------------------\u001b[0m",
      "\u001b[0;31mTypeError\u001b[0m                                 Traceback (most recent call last)",
      "\u001b[0;32m<ipython-input-32-bd8cad3b224f>\u001b[0m in \u001b[0;36m<module>\u001b[0;34m()\u001b[0m\n\u001b[0;32m----> 1\u001b[0;31m \u001b[0mhistDep\u001b[0m\u001b[0;34m(\u001b[0m\u001b[0mcase1\u001b[0m\u001b[0;34m)\u001b[0m\u001b[0;34m\u001b[0m\u001b[0m\n\u001b[0m",
      "\u001b[0;32m<ipython-input-31-682dee405ecd>\u001b[0m in \u001b[0;36mhistDep\u001b[0;34m(frame)\u001b[0m\n\u001b[1;32m     20\u001b[0m \u001b[0;34m\u001b[0m\u001b[0m\n\u001b[1;32m     21\u001b[0m     \u001b[0;31m# Computing the 'densities'\u001b[0m\u001b[0;34m\u001b[0m\u001b[0;34m\u001b[0m\u001b[0m\n\u001b[0;32m---> 22\u001b[0;31m     \u001b[0mjHist\u001b[0m \u001b[0;34m=\u001b[0m \u001b[0mnp\u001b[0m\u001b[0;34m.\u001b[0m\u001b[0mhistogram2d\u001b[0m\u001b[0;34m(\u001b[0m\u001b[0mX\u001b[0m\u001b[0;34m[\u001b[0m\u001b[0;34m:\u001b[0m\u001b[0;34m,\u001b[0m\u001b[0;36m0\u001b[0m\u001b[0;34m]\u001b[0m\u001b[0;34m,\u001b[0m\u001b[0mresids\u001b[0m\u001b[0;34m,\u001b[0m \u001b[0mbins\u001b[0m\u001b[0;34m=\u001b[0m\u001b[0;36m20\u001b[0m\u001b[0;34m,\u001b[0m \u001b[0mdensity\u001b[0m\u001b[0;34m=\u001b[0m\u001b[0;32mTrue\u001b[0m\u001b[0;34m)\u001b[0m\u001b[0;34m\u001b[0m\u001b[0m\n\u001b[0m\u001b[1;32m     23\u001b[0m     \u001b[0mjX\u001b[0m\u001b[0;34m,\u001b[0m \u001b[0mjY\u001b[0m \u001b[0;34m=\u001b[0m \u001b[0mjHist\u001b[0m\u001b[0;34m[\u001b[0m\u001b[0;36m0\u001b[0m\u001b[0;34m]\u001b[0m\u001b[0;34m.\u001b[0m\u001b[0msum\u001b[0m\u001b[0;34m(\u001b[0m\u001b[0maxis\u001b[0m\u001b[0;34m=\u001b[0m\u001b[0;36m0\u001b[0m\u001b[0;34m)\u001b[0m\u001b[0;34m,\u001b[0m \u001b[0mjHist\u001b[0m\u001b[0;34m[\u001b[0m\u001b[0;36m0\u001b[0m\u001b[0;34m]\u001b[0m\u001b[0;34m.\u001b[0m\u001b[0msum\u001b[0m\u001b[0;34m(\u001b[0m\u001b[0maxis\u001b[0m\u001b[0;34m=\u001b[0m\u001b[0;36m1\u001b[0m\u001b[0;34m)\u001b[0m\u001b[0;34m\u001b[0m\u001b[0m\n\u001b[1;32m     24\u001b[0m     \u001b[0mjX\u001b[0m\u001b[0;34m,\u001b[0m \u001b[0mjY\u001b[0m \u001b[0;34m=\u001b[0m \u001b[0mjX\u001b[0m \u001b[0;34m/\u001b[0m \u001b[0mjX\u001b[0m\u001b[0;34m.\u001b[0m\u001b[0msum\u001b[0m\u001b[0;34m(\u001b[0m\u001b[0;34m)\u001b[0m\u001b[0;34m,\u001b[0m \u001b[0mjY\u001b[0m \u001b[0;34m/\u001b[0m \u001b[0mjY\u001b[0m\u001b[0;34m.\u001b[0m\u001b[0msum\u001b[0m\u001b[0;34m(\u001b[0m\u001b[0;34m)\u001b[0m \u001b[0;31m# Normalizing\u001b[0m\u001b[0;34m\u001b[0m\u001b[0m\n",
      "\u001b[0;31mTypeError\u001b[0m: histogram2d() got an unexpected keyword argument 'density'"
     ]
    }
   ],
   "source": [
    "histDep(case1)"
   ]
  },
  {
   "cell_type": "code",
   "execution_count": 405,
   "metadata": {},
   "outputs": [
    {
     "data": {
      "text/plain": [
       "0.11031973214660293"
      ]
     },
     "execution_count": 405,
     "metadata": {},
     "output_type": "execute_result"
    }
   ],
   "source": [
    "histDep(case2)"
   ]
  },
  {
   "cell_type": "code",
   "execution_count": 406,
   "metadata": {},
   "outputs": [
    {
     "data": {
      "text/plain": [
       "0.20449742460851725"
      ]
     },
     "execution_count": 406,
     "metadata": {},
     "output_type": "execute_result"
    }
   ],
   "source": [
    "histDep(case3)"
   ]
  },
  {
   "cell_type": "code",
   "execution_count": 407,
   "metadata": {},
   "outputs": [
    {
     "data": {
      "text/plain": [
       "0.08766266861990527"
      ]
     },
     "execution_count": 407,
     "metadata": {},
     "output_type": "execute_result"
    }
   ],
   "source": [
    "histDep(case4)"
   ]
  },
  {
   "cell_type": "markdown",
   "metadata": {},
   "source": [
    "### Even worse."
   ]
  },
  {
   "cell_type": "markdown",
   "metadata": {},
   "source": [
    "# Approach: Via Code replication from (Hoyer 2009)"
   ]
  },
  {
   "cell_type": "code",
   "execution_count": 257,
   "metadata": {},
   "outputs": [],
   "source": [
    "import statsmodels "
   ]
  },
  {
   "cell_type": "code",
   "execution_count": 258,
   "metadata": {},
   "outputs": [],
   "source": [
    "X = np.asarray(olf.eruptions)\n",
    "Y = np.asarray(olf.waiting)"
   ]
  },
  {
   "cell_type": "markdown",
   "metadata": {},
   "source": [
    "## Forward"
   ]
  },
  {
   "cell_type": "code",
   "execution_count": 337,
   "metadata": {},
   "outputs": [],
   "source": [
    "forward_model = sm.OLS(Y,X).fit()"
   ]
  },
  {
   "cell_type": "code",
   "execution_count": 338,
   "metadata": {},
   "outputs": [
    {
     "data": {
      "text/plain": [
       "[<matplotlib.lines.Line2D at 0x1c2752cf28>]"
      ]
     },
     "execution_count": 338,
     "metadata": {},
     "output_type": "execute_result"
    },
    {
     "data": {
      "image/png": "[encoded data removed]",
      "text/plain": [
       "<Figure size 432x288 with 1 Axes>"
      ]
     },
     "metadata": {},
     "output_type": "display_data"
    }
   ],
   "source": [
    "plt.scatter(X, Y)\n",
    "plt.plot(X, forward_model.predict(X))"
   ]
  },
  {
   "cell_type": "code",
   "execution_count": 339,
   "metadata": {},
   "outputs": [
    {
     "data": {
      "text/plain": [
       "<matplotlib.collections.PathCollection at 0x1c270be198>"
      ]
     },
     "execution_count": 339,
     "metadata": {},
     "output_type": "execute_result"
    },
    {
     "data": {
      "image/png": "[encoded data removed]",
      "text/plain": [
       "<Figure size 432x288 with 1 Axes>"
      ]
     },
     "metadata": {},
     "output_type": "display_data"
    }
   ],
   "source": [
    "plt.scatter(X, forward_model.resid)"
   ]
  },
  {
   "cell_type": "code",
   "execution_count": 340,
   "metadata": {},
   "outputs": [],
   "source": [
    "(tstat, pvalue, df) =  statsmodels.stats.weightstats.ttest_ind(X, forward_model.resid)"
   ]
  },
  {
   "cell_type": "code",
   "execution_count": 342,
   "metadata": {},
   "outputs": [
    {
     "data": {
      "text/plain": [
       "0.7108221619634345"
      ]
     },
     "execution_count": 342,
     "metadata": {},
     "output_type": "execute_result"
    }
   ],
   "source": [
    "pvalue"
   ]
  },
  {
   "cell_type": "markdown",
   "metadata": {},
   "source": [
    "### Regression on residuals"
   ]
  },
  {
   "cell_type": "code",
   "execution_count": 346,
   "metadata": {},
   "outputs": [],
   "source": [
    "forward_model_residual = sm.OLS(forward_model.resid,X).fit()"
   ]
  },
  {
   "cell_type": "code",
   "execution_count": 347,
   "metadata": {},
   "outputs": [
    {
     "data": {
      "text/plain": [
       "[<matplotlib.lines.Line2D at 0x1c275f09b0>]"
      ]
     },
     "execution_count": 347,
     "metadata": {},
     "output_type": "execute_result"
    },
    {
     "data": {
      "image/png": "[encoded data removed]",
      "text/plain": [
       "<Figure size 432x288 with 1 Axes>"
      ]
     },
     "metadata": {},
     "output_type": "display_data"
    }
   ],
   "source": [
    "plt.scatter(X, forward_model_residual.resid)\n",
    "plt.plot(X, forward_model_residual.predict(X))"
   ]
  },
  {
   "cell_type": "markdown",
   "metadata": {},
   "source": [
    "### Chi-squared indepence test"
   ]
  },
  {
   "cell_type": "code",
   "execution_count": 360,
   "metadata": {},
   "outputs": [
    {
     "data": {
      "text/plain": [
       "array([[  3.6       ,   1.8       ,   3.333     ,   2.283     ,\n",
       "          4.533     ,   2.883     ,   4.7       ,   3.6       ,\n",
       "          1.95      ,   4.35      ,   1.833     ,   3.917     ,\n",
       "          4.2       ,   1.75      ,   4.7       ,   2.167     ,\n",
       "          1.75      ,   4.8       ,   1.6       ,   4.25      ,\n",
       "          1.8       ,   1.75      ,   3.45      ,   3.067     ,\n",
       "          4.533     ,   3.6       ,   1.967     ,   4.083     ,\n",
       "          3.85      ,   4.433     ,   4.3       ,   4.467     ,\n",
       "          3.367     ,   4.033     ,   3.833     ,   2.017     ,\n",
       "          1.867     ,   4.833     ,   1.833     ,   4.783     ,\n",
       "          4.35      ,   1.883     ,   4.567     ,   1.75      ,\n",
       "          4.533     ,   3.317     ,   3.833     ,   2.1       ,\n",
       "          4.633     ,   2.        ,   4.8       ,   4.716     ,\n",
       "          1.833     ,   4.833     ,   1.733     ,   4.883     ,\n",
       "          3.717     ,   1.667     ,   4.567     ,   4.317     ,\n",
       "          2.233     ,   4.5       ,   1.75      ,   4.8       ,\n",
       "          1.817     ,   4.4       ,   4.167     ,   4.7       ,\n",
       "          2.067     ,   4.7       ,   4.033     ,   1.967     ,\n",
       "          4.5       ,   4.        ,   1.983     ,   5.067     ,\n",
       "          2.017     ,   4.567     ,   3.883     ,   3.6       ,\n",
       "          4.133     ,   4.333     ,   4.1       ,   2.633     ,\n",
       "          4.067     ,   4.933     ,   3.95      ,   4.517     ,\n",
       "          2.167     ,   4.        ,   2.2       ,   4.333     ,\n",
       "          1.867     ,   4.817     ,   1.833     ,   4.3       ,\n",
       "          4.667     ,   3.75      ,   1.867     ,   4.9       ,\n",
       "          2.483     ,   4.367     ,   2.1       ,   4.5       ,\n",
       "          4.05      ,   1.867     ,   4.7       ,   1.783     ,\n",
       "          4.85      ,   3.683     ,   4.733     ,   2.3       ,\n",
       "          4.9       ,   4.417     ,   1.7       ,   4.633     ,\n",
       "          2.317     ,   4.6       ,   1.817     ,   4.417     ,\n",
       "          2.617     ,   4.067     ,   4.25      ,   1.967     ,\n",
       "          4.6       ,   3.767     ,   1.917     ,   4.5       ,\n",
       "          2.267     ,   4.65      ,   1.867     ,   4.167     ,\n",
       "          2.8       ,   4.333     ,   1.833     ,   4.383     ,\n",
       "          1.883     ,   4.933     ,   2.033     ,   3.733     ,\n",
       "          4.233     ,   2.233     ,   4.533     ,   4.817     ,\n",
       "          4.333     ,   1.983     ,   4.633     ,   2.017     ,\n",
       "          5.1       ,   1.8       ,   5.033     ,   4.        ,\n",
       "          2.4       ,   4.6       ,   3.567     ,   4.        ,\n",
       "          4.5       ,   4.083     ,   1.8       ,   3.967     ,\n",
       "          2.2       ,   4.15      ,   2.        ,   3.833     ,\n",
       "          3.5       ,   4.583     ,   2.367     ,   5.        ,\n",
       "          1.933     ,   4.617     ,   1.917     ,   2.083     ,\n",
       "          4.583     ,   3.333     ,   4.167     ,   4.333     ,\n",
       "          4.5       ,   2.417     ,   4.        ,   4.167     ,\n",
       "          1.883     ,   4.583     ,   4.25      ,   3.767     ,\n",
       "          2.033     ,   4.433     ,   4.083     ,   1.833     ,\n",
       "          4.417     ,   2.183     ,   4.8       ,   1.833     ,\n",
       "          4.8       ,   4.1       ,   3.966     ,   4.233     ,\n",
       "          3.5       ,   4.366     ,   2.25      ,   4.667     ,\n",
       "          2.1       ,   4.35      ,   4.133     ,   1.867     ,\n",
       "          4.6       ,   1.783     ,   4.367     ,   3.85      ,\n",
       "          1.933     ,   4.5       ,   2.383     ,   4.7       ,\n",
       "          1.867     ,   3.833     ,   3.417     ,   4.233     ,\n",
       "          2.4       ,   4.8       ,   2.        ,   4.15      ,\n",
       "          1.867     ,   4.267     ,   1.75      ,   4.483     ,\n",
       "          4.        ,   4.117     ,   4.083     ,   4.267     ,\n",
       "          3.917     ,   4.55      ,   4.083     ,   2.417     ,\n",
       "          4.183     ,   2.217     ,   4.45      ,   1.883     ,\n",
       "          1.85      ,   4.283     ,   3.95      ,   2.333     ,\n",
       "          4.15      ,   2.35      ,   4.933     ,   2.9       ,\n",
       "          4.583     ,   3.833     ,   2.083     ,   4.367     ,\n",
       "          2.133     ,   4.35      ,   2.2       ,   4.45      ,\n",
       "          3.567     ,   4.5       ,   4.15      ,   3.817     ,\n",
       "          3.917     ,   4.45      ,   2.        ,   4.283     ,\n",
       "          4.767     ,   4.533     ,   1.85      ,   4.25      ,\n",
       "          1.983     ,   2.25      ,   4.75      ,   4.117     ,\n",
       "          2.15      ,   4.417     ,   1.817     ,   4.467     ],\n",
       "       [  9.15301309,  19.07650655,   9.33333129,  17.70536914,\n",
       "         -2.94899768,  -0.93579535,  -3.18912179,  15.15301309,\n",
       "         13.16621543,   0.60155749,  18.4362425 ,   8.00259786,\n",
       "         -3.48815139,  13.04660359,  -8.18912179,   9.95599427,\n",
       "         28.04660359,  -9.12931588,  20.95689471,  -3.45824843,\n",
       "         16.07650655,  13.04660359,  11.06330421,   9.49424754,\n",
       "        -13.94899768,  13.15301309,  16.83638243,  -3.21812432,\n",
       "          3.30252789,  -7.0088036 , -10.42834547,  -9.66846959,\n",
       "          0.6736653 ,   1.75197272,  -0.36763911,  12.86628539,\n",
       "         11.77657651, -13.76957992,  23.4362425 ,  -2.79948288,\n",
       "         -4.39844251,  21.46614546,  -4.60866367,  24.04660359,\n",
       "        -14.94899768,  18.64376234, -10.36763911,  12.2559243 ,\n",
       "         -7.88919176,  20.19611839, -18.12931588,  -1.49955285,\n",
       "         18.4362425 , -13.76957992,  20.37643658, -11.73967696,\n",
       "         -1.11701398,  31.65696467, -11.60866367,  -2.75817847,\n",
       "         15.67546618,  -3.30873363,  14.04660359, -11.12931588,\n",
       "         24.74667355,   6.63146045,  -2.84788734, -13.18912179,\n",
       "         24.89618835, -18.18912179,   3.75197272,  17.83638243,\n",
       "         -8.30873363,  -6.60776323,  23.52595138, -22.30963407,\n",
       "         20.86628539, -10.60866367,   0.66226385,  13.15301309,\n",
       "         -5.18822136,  -2.06860952,  -9.54795731,  13.91468985,\n",
       "         -5.90769326,  -7.709774  ,  -0.63766619,  -7.63856663,\n",
       "          5.95599427,   8.39223677,  17.31573022,   5.93139048,\n",
       "         13.77657651, -15.45914887,  27.4362425 , -11.42834547,\n",
       "         -6.54885775,   2.24272197,  14.77657651, -13.06950996,\n",
       "         13.82498098,   3.27172449,   8.2559243 ,  -4.30873363,\n",
       "          2.42213973,  10.77657651,  -7.18912179,  17.40633954,\n",
       "         -8.09941292,   9.54265201, -16.82938584,  14.37553614,\n",
       "         -6.06950996,  -6.69837255,  26.01670063,  -8.88919176,\n",
       "          5.04570315,  -4.24892771,  23.74667355,   1.30162745,\n",
       "          2.22512091,  -9.90769326,  -5.45824843,  17.83638243,\n",
       "         -1.24892771,   7.91288898,   7.80647947,  -5.30873363,\n",
       "         11.01580019,  -0.21902475,   8.77657651,   2.15211266,\n",
       "          1.67456574,   4.93139048,  10.4362425 ,  -3.03870656,\n",
       "         14.46614546,  -9.709774  ,  13.55585434,   6.57255497,\n",
       "         -1.12841544,  16.67546618,  -5.94899768, -16.45914887,\n",
       "         -8.06860952,  20.52595138,  -9.88919176,   9.86628539,\n",
       "         -2.94989812,  18.07650655, -20.64996808,  -0.60776323,\n",
       "         18.43534206,  -8.24892771,   1.79327714,  -7.60776323,\n",
       "         -6.30873363,  13.78187568,  18.07650655,  12.03250082,\n",
       "          2.31573022,   5.48194565,  19.19611839,   3.63236089,\n",
       "         -1.90679283, -12.91909472,  17.07560611,  -9.00970404,\n",
       "         14.49604842,   3.42123929,  11.80647947,  16.5857573 ,\n",
       "        -11.91909472,   3.33333129,   0.15211266,  -3.06860952,\n",
       "        -14.30873363,   3.10550907,   7.39223677,  -6.84788734,\n",
       "         18.46614546, -11.91909472,   0.54175157,   9.91288898,\n",
       "         11.55585434,  -8.0088036 ,   4.78187568,  10.4362425 ,\n",
       "         -2.69837255,  12.64556322, -12.12931588,  21.4362425 ,\n",
       "        -17.12931588,   4.45204269,   0.05190276,  -1.12841544,\n",
       "         19.09320717,  -7.70887356,   7.34563318, -12.54885775,\n",
       "         19.2559243 ,  -2.39844251,  10.81177864,  16.77657651,\n",
       "        -11.24892771,  11.40633954,  -7.72827551,   9.30252789,\n",
       "         11.49604842,  -4.30873363,  24.76517506, -11.18912179,\n",
       "         12.77657651,   0.63236089,  -2.29643174,  -6.12841544,\n",
       "          6.43534206,   0.87068412,  16.19611839,  -4.51805435,\n",
       "         13.77657651,  -0.78808142,  20.04660359, -11.97890064,\n",
       "          0.39223677,  -0.8777903 ,  -1.21812432,  -4.78808142,\n",
       "         -5.99740214,  -9.27883067,  -9.21812432,   7.10550907,\n",
       "          4.8416816 ,   6.98589723,   3.66136341,  17.46614546,\n",
       "         18.10640951,  -6.09851248,   2.36233381,  18.7352721 ,\n",
       "         -5.51805435,   1.4054391 ,  -9.709774  ,   6.73437166,\n",
       "         -3.91909472,   7.63236089,  16.5857573 ,  -2.72827551,\n",
       "         25.61566026, -10.39844251,  11.31573022,  -3.33863659,\n",
       "          3.79327714, -14.30873363,   7.48194565,   5.94279194,\n",
       "         -4.99740214,  -3.33863659,  17.19611839,  -4.09851248,\n",
       "        -14.48905183,  -3.94899768,  22.10640951,   0.54175157,\n",
       "          4.52595138,  16.34563318, -17.15921883,   1.1222097 ,\n",
       "          4.28582726,   4.30162745,  10.74667355, -12.66846959]])"
      ]
     },
     "execution_count": 360,
     "metadata": {},
     "output_type": "execute_result"
    }
   ],
   "source": [
    "f_obs = np.array([X, forward_model.resid])\n",
    "f_obs"
   ]
  },
  {
   "cell_type": "code",
   "execution_count": 359,
   "metadata": {},
   "outputs": [
    {
     "data": {
      "text/plain": [
       "(658.145173383317, 3.3401190328136598e-34, 271)"
      ]
     },
     "execution_count": 359,
     "metadata": {},
     "output_type": "execute_result"
    }
   ],
   "source": [
    "from scipy import stats\n",
    "stats.chi2_contingency(f_obs)[0:3]"
   ]
  },
  {
   "cell_type": "markdown",
   "metadata": {},
   "source": [
    "## Backward"
   ]
  },
  {
   "cell_type": "code",
   "execution_count": 350,
   "metadata": {},
   "outputs": [
    {
     "data": {
      "text/plain": [
       "[<matplotlib.lines.Line2D at 0x1c2740eef0>]"
      ]
     },
     "execution_count": 350,
     "metadata": {},
     "output_type": "execute_result"
    },
    {
     "data": {
      "image/png": "[encoded data removed]",
      "text/plain": [
       "<Figure size 432x288 with 1 Axes>"
      ]
     },
     "metadata": {},
     "output_type": "display_data"
    }
   ],
   "source": [
    "backward_model = sm.OLS(X,Y).fit()\n",
    "plt.scatter(Y, X)\n",
    "plt.plot(Y, backward_model.predict(Y))"
   ]
  },
  {
   "cell_type": "code",
   "execution_count": 351,
   "metadata": {},
   "outputs": [
    {
     "data": {
      "text/plain": [
       "4.3258e-318"
      ]
     },
     "execution_count": 351,
     "metadata": {},
     "output_type": "execute_result"
    },
    {
     "data": {
      "image/png": "[encoded data removed]",
      "text/plain": [
       "<Figure size 432x288 with 1 Axes>"
      ]
     },
     "metadata": {},
     "output_type": "display_data"
    }
   ],
   "source": [
    "plt.scatter(Y, backward_model.resid)\n",
    "(tstat, pvalue, df) =  statsmodels.stats.weightstats.ttest_ind(Y, backward_model.resid)\n",
    "pvalue"
   ]
  },
  {
   "cell_type": "markdown",
   "metadata": {},
   "source": [
    "## Non-linear approach"
   ]
  },
  {
   "cell_type": "code",
   "execution_count": null,
   "metadata": {},
   "outputs": [],
   "source": []
  },
  {
   "cell_type": "code",
   "execution_count": 333,
   "metadata": {},
   "outputs": [],
   "source": [
    "from sklearn.svm import SVR\n",
    "def pval_residual_independence(X, Y):\n",
    "    model = sm.OLS(formula = 'X ~ np.power(Y, 3) + b', endog=Y, exog=X).fit()\n",
    "    \n",
    "    model = SVR(kernel='rbf', C=10.0, epsilon=0.2)\n",
    "    model.fit(X, Y)     \n",
    "    plt.scatter(X, Y)\n",
    "    plt.scatter(X, model.predict(X))\n",
    "    residuals = Y - np.transpose(model.predict(X).reshape(1, -1))\n",
    "    (tstat, pvalue, df) =  statsmodels.stats.weightstats.ttest_ind(X.reshape(-1, 1), residuals)\n",
    "    return (pvalue, residuals)"
   ]
  },
  {
   "cell_type": "code",
   "execution_count": 334,
   "metadata": {},
   "outputs": [
    {
     "name": "stderr",
     "output_type": "stream",
     "text": [
      "/Users/jakobzeitler/anaconda3/lib/python3.6/site-packages/sklearn/utils/validation.py:578: DataConversionWarning: A column-vector y was passed when a 1d array was expected. Please change the shape of y to (n_samples, ), for example using ravel().\n",
      "  y = column_or_1d(y, warn=True)\n"
     ]
    },
    {
     "data": {
      "text/plain": [
       "array([1.59770251e-20])"
      ]
     },
     "execution_count": 334,
     "metadata": {},
     "output_type": "execute_result"
    },
    {
     "data": {
      "image/png": "[encoded data removed]",
      "text/plain": [
       "<Figure size 432x288 with 1 Axes>"
      ]
     },
     "metadata": {},
     "output_type": "display_data"
    }
   ],
   "source": [
    "(pvalue, residuals) = pval_residual_independence(X.reshape(-1, 1), Y.reshape(-1, 1))\n",
    "pvalue"
   ]
  },
  {
   "cell_type": "code",
   "execution_count": 335,
   "metadata": {},
   "outputs": [
    {
     "data": {
      "text/plain": [
       "<matplotlib.collections.PathCollection at 0x1c274d7908>"
      ]
     },
     "execution_count": 335,
     "metadata": {},
     "output_type": "execute_result"
    },
    {
     "data": {
      "image/png": "[encoded data removed]",
      "text/plain": [
       "<Figure size 432x288 with 1 Axes>"
      ]
     },
     "metadata": {},
     "output_type": "display_data"
    }
   ],
   "source": [
    "plt.scatter(X, residuals)"
   ]
  },
  {
   "cell_type": "code",
   "execution_count": 336,
   "metadata": {},
   "outputs": [
    {
     "name": "stderr",
     "output_type": "stream",
     "text": [
      "/Users/jakobzeitler/anaconda3/lib/python3.6/site-packages/sklearn/utils/validation.py:578: DataConversionWarning: A column-vector y was passed when a 1d array was expected. Please change the shape of y to (n_samples, ), for example using ravel().\n",
      "  y = column_or_1d(y, warn=True)\n"
     ]
    },
    {
     "data": {
      "text/plain": [
       "array([4.47658e-318])"
      ]
     },
     "execution_count": 336,
     "metadata": {},
     "output_type": "execute_result"
    },
    {
     "data": {
      "image/png": "[encoded data removed]",
      "text/plain": [
       "<Figure size 432x288 with 1 Axes>"
      ]
     },
     "metadata": {},
     "output_type": "display_data"
    }
   ],
   "source": [
    "(pvalue, residuals) = pval_residual_independence(Y.reshape(-1, 1), X.reshape(-1, 1))\n",
    "pvalue"
   ]
  },
  {
   "cell_type": "markdown",
   "metadata": {},
   "source": [
    "### Polynomial fit"
   ]
  },
  {
   "cell_type": "code",
   "execution_count": null,
   "metadata": {},
   "outputs": [],
   "source": [
    "\n",
    "from sklearn import linear_model\n",
    "\n",
    "\n",
    "poly = PolynomialFeatures(degree=3)\n",
    "X_ = poly.fit_transform(X)\n",
    "predict_ = poly.fit_transform(predict)\n",
    "\n",
    "clf = linear_model.LinearRegression()\n",
    "clf.fit(X_, vector)\n",
    "print clf.predict(predict_)"
   ]
  }
 ],
 "metadata": {
  "kernelspec": {
   "display_name": "Python 3",
   "language": "python",
   "name": "python3"
  },
  "language_info": {
   "codemirror_mode": {
    "name": "ipython",
    "version": 3
   },
   "file_extension": ".py",
   "mimetype": "text/x-python",
   "name": "python",
   "nbconvert_exporter": "python",
   "pygments_lexer": "ipython3",
   "version": "3.6.5"
  }
 },
 "nbformat": 4,
 "nbformat_minor": 2
}
